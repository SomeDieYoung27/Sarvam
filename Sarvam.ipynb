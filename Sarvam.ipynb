{
  "nbformat": 4,
  "nbformat_minor": 0,
  "metadata": {
    "colab": {
      "provenance": []
    },
    "kernelspec": {
      "name": "python3",
      "display_name": "Python 3"
    },
    "language_info": {
      "name": "python"
    }
  },
  "cells": [
    {
      "cell_type": "code",
      "execution_count": 1,
      "metadata": {
        "colab": {
          "base_uri": "https://localhost:8080/"
        },
        "id": "Kb1-_0ujMNDR",
        "outputId": "f9fc5d8f-ad55-4953-f8f3-df61cd2d05e4"
      },
      "outputs": [
        {
          "output_type": "stream",
          "name": "stdout",
          "text": [
            "Requirement already satisfied: gensim==4.3.3 in /usr/local/lib/python3.10/dist-packages (4.3.3)\n",
            "Requirement already satisfied: numpy<2.0,>=1.18.5 in /usr/local/lib/python3.10/dist-packages (from gensim==4.3.3) (1.25.2)\n",
            "Requirement already satisfied: scipy<1.14.0,>=1.7.0 in /usr/local/lib/python3.10/dist-packages (from gensim==4.3.3) (1.11.4)\n",
            "Requirement already satisfied: smart-open>=1.8.1 in /usr/local/lib/python3.10/dist-packages (from gensim==4.3.3) (7.0.4)\n",
            "Requirement already satisfied: wrapt in /usr/local/lib/python3.10/dist-packages (from smart-open>=1.8.1->gensim==4.3.3) (1.14.1)\n",
            "Requirement already satisfied: matplotlib in /usr/local/lib/python3.10/dist-packages (3.7.1)\n",
            "Requirement already satisfied: contourpy>=1.0.1 in /usr/local/lib/python3.10/dist-packages (from matplotlib) (1.2.1)\n",
            "Requirement already satisfied: cycler>=0.10 in /usr/local/lib/python3.10/dist-packages (from matplotlib) (0.12.1)\n",
            "Requirement already satisfied: fonttools>=4.22.0 in /usr/local/lib/python3.10/dist-packages (from matplotlib) (4.53.1)\n",
            "Requirement already satisfied: kiwisolver>=1.0.1 in /usr/local/lib/python3.10/dist-packages (from matplotlib) (1.4.5)\n",
            "Requirement already satisfied: numpy>=1.20 in /usr/local/lib/python3.10/dist-packages (from matplotlib) (1.25.2)\n",
            "Requirement already satisfied: packaging>=20.0 in /usr/local/lib/python3.10/dist-packages (from matplotlib) (24.1)\n",
            "Requirement already satisfied: pillow>=6.2.0 in /usr/local/lib/python3.10/dist-packages (from matplotlib) (9.4.0)\n",
            "Requirement already satisfied: pyparsing>=2.3.1 in /usr/local/lib/python3.10/dist-packages (from matplotlib) (3.1.2)\n",
            "Requirement already satisfied: python-dateutil>=2.7 in /usr/local/lib/python3.10/dist-packages (from matplotlib) (2.8.2)\n",
            "Requirement already satisfied: six>=1.5 in /usr/local/lib/python3.10/dist-packages (from python-dateutil>=2.7->matplotlib) (1.16.0)\n",
            "Requirement already satisfied: scikit-learn in /usr/local/lib/python3.10/dist-packages (1.2.2)\n",
            "Requirement already satisfied: numpy>=1.17.3 in /usr/local/lib/python3.10/dist-packages (from scikit-learn) (1.25.2)\n",
            "Requirement already satisfied: scipy>=1.3.2 in /usr/local/lib/python3.10/dist-packages (from scikit-learn) (1.11.4)\n",
            "Requirement already satisfied: joblib>=1.1.1 in /usr/local/lib/python3.10/dist-packages (from scikit-learn) (1.4.2)\n",
            "Requirement already satisfied: threadpoolctl>=2.0.0 in /usr/local/lib/python3.10/dist-packages (from scikit-learn) (3.5.0)\n"
          ]
        }
      ],
      "source": [
        "!pip install gensim==4.3.3\n",
        "!pip install matplotlib\n",
        "!pip install scikit-learn"
      ]
    },
    {
      "cell_type": "code",
      "source": [
        "\n",
        "!wget -c https://dl.fbaipublicfiles.com/fasttext/vectors-crawl/cc.en.300.vec.gz\n",
        "!wget -c https://dl.fbaipublicfiles.com/fasttext/vectors-crawl/cc.hi.300.vec.gz\n"
      ],
      "metadata": {
        "colab": {
          "base_uri": "https://localhost:8080/"
        },
        "id": "_nylNlZiMv2S",
        "outputId": "f1a625fb-530e-4d0e-add4-a406c76faf1c"
      },
      "execution_count": 4,
      "outputs": [
        {
          "output_type": "stream",
          "name": "stdout",
          "text": [
            "--2024-09-23 18:45:05--  https://dl.fbaipublicfiles.com/fasttext/vectors-crawl/cc.en.300.vec.gz\n",
            "Resolving dl.fbaipublicfiles.com (dl.fbaipublicfiles.com)... 18.165.83.91, 18.165.83.44, 18.165.83.79, ...\n",
            "Connecting to dl.fbaipublicfiles.com (dl.fbaipublicfiles.com)|18.165.83.91|:443... connected.\n",
            "HTTP request sent, awaiting response... 200 OK\n",
            "Length: 1325960915 (1.2G) [binary/octet-stream]\n",
            "Saving to: ‘cc.en.300.vec.gz’\n",
            "\n",
            "cc.en.300.vec.gz    100%[===================>]   1.23G   141MB/s    in 11s     \n",
            "\n",
            "2024-09-23 18:45:16 (116 MB/s) - ‘cc.en.300.vec.gz’ saved [1325960915/1325960915]\n",
            "\n",
            "--2024-09-23 18:45:16--  https://dl.fbaipublicfiles.com/fasttext/vectors-crawl/cc.hi.300.vec.gz\n",
            "Resolving dl.fbaipublicfiles.com (dl.fbaipublicfiles.com)... 18.165.83.91, 18.165.83.44, 18.165.83.79, ...\n",
            "Connecting to dl.fbaipublicfiles.com (dl.fbaipublicfiles.com)|18.165.83.91|:443... connected.\n",
            "HTTP request sent, awaiting response... 200 OK\n",
            "Length: 1118942272 (1.0G) [binary/octet-stream]\n",
            "Saving to: ‘cc.hi.300.vec.gz’\n",
            "\n",
            "cc.hi.300.vec.gz    100%[===================>]   1.04G   184MB/s    in 8.7s    \n",
            "\n",
            "2024-09-23 18:45:25 (123 MB/s) - ‘cc.hi.300.vec.gz’ saved [1118942272/1118942272]\n",
            "\n"
          ]
        }
      ]
    },
    {
      "cell_type": "code",
      "source": [],
      "metadata": {
        "id": "jYu_aC4fbeQ5"
      },
      "execution_count": null,
      "outputs": []
    },
    {
      "cell_type": "code",
      "source": [
        "import gensim\n",
        "from gensim.models.keyedvectors import KeyedVectors\n",
        "\n",
        "# English embeddings\n",
        "en_embeddings = KeyedVectors.load_word2vec_format('cc.en.300.vec.gz', binary=False)\n",
        "\n",
        "# Hindi embeddings\n",
        "hi_embeddings = KeyedVectors.load_word2vec_format('cc.hi.300.vec.gz', binary=False)\n"
      ],
      "metadata": {
        "id": "5JdjtZrAM1Km"
      },
      "execution_count": 5,
      "outputs": []
    },
    {
      "cell_type": "code",
      "source": [
        "\n",
        "!wget -c https://dl.fbaipublicfiles.com/arrival/dictionaries/en-hi.0-5000.txt\n",
        "\n",
        "!wget -c https://dl.fbaipublicfiles.com/arrival/dictionaries/en-hi.5000-6500.txt"
      ],
      "metadata": {
        "colab": {
          "base_uri": "https://localhost:8080/"
        },
        "id": "ukUhb2RLQfda",
        "outputId": "187df604-b051-4408-cc0d-0e17959eb823"
      },
      "execution_count": 6,
      "outputs": [
        {
          "output_type": "stream",
          "name": "stdout",
          "text": [
            "--2024-09-23 19:00:55--  https://dl.fbaipublicfiles.com/arrival/dictionaries/en-hi.0-5000.txt\n",
            "Resolving dl.fbaipublicfiles.com (dl.fbaipublicfiles.com)... 13.226.34.53, 13.226.34.83, 13.226.34.7, ...\n",
            "Connecting to dl.fbaipublicfiles.com (dl.fbaipublicfiles.com)|13.226.34.53|:443... connected.\n",
            "HTTP request sent, awaiting response... 200 OK\n",
            "Length: 219327 (214K) [text/x-c++]\n",
            "Saving to: ‘en-hi.0-5000.txt’\n",
            "\n",
            "\ren-hi.0-5000.txt      0%[                    ]       0  --.-KB/s               \ren-hi.0-5000.txt    100%[===================>] 214.19K  --.-KB/s    in 0.03s   \n",
            "\n",
            "2024-09-23 19:00:55 (6.68 MB/s) - ‘en-hi.0-5000.txt’ saved [219327/219327]\n",
            "\n",
            "--2024-09-23 19:00:55--  https://dl.fbaipublicfiles.com/arrival/dictionaries/en-hi.5000-6500.txt\n",
            "Resolving dl.fbaipublicfiles.com (dl.fbaipublicfiles.com)... 13.226.34.53, 13.226.34.83, 13.226.34.7, ...\n",
            "Connecting to dl.fbaipublicfiles.com (dl.fbaipublicfiles.com)|13.226.34.53|:443... connected.\n",
            "HTTP request sent, awaiting response... 200 OK\n",
            "Length: 52464 (51K) [text/plain]\n",
            "Saving to: ‘en-hi.5000-6500.txt’\n",
            "\n",
            "en-hi.5000-6500.txt 100%[===================>]  51.23K  --.-KB/s    in 0.008s  \n",
            "\n",
            "2024-09-23 19:00:55 (6.65 MB/s) - ‘en-hi.5000-6500.txt’ saved [52464/52464]\n",
            "\n"
          ]
        }
      ]
    },
    {
      "cell_type": "code",
      "source": [
        "\n",
        "\n",
        "# For English\n",
        "en_embeddings.vectors = en_embeddings.vectors[:100000]\n",
        "en_embeddings.index_to_key = en_embeddings.index_to_key[:100000]\n",
        "en_embeddings.key_to_index = {word: idx for idx, word in enumerate(en_embeddings.index_to_key)}\n",
        "\n",
        "# For Hindi\n",
        "hi_embeddings.vectors = hi_embeddings.vectors[:100000]\n",
        "hi_embeddings.index_to_key = hi_embeddings.index_to_key[:100000]\n",
        "hi_embeddings.key_to_index = {word: idx for idx, word in enumerate(hi_embeddings.index_to_key)}\n"
      ],
      "metadata": {
        "id": "wXvhfv1WQigI"
      },
      "execution_count": 7,
      "outputs": []
    },
    {
      "cell_type": "code",
      "source": [
        "# Loading the bilingual lexicon\n",
        "def load_bilingual_lexicon(file_path):\n",
        "    with open(file_path, 'r', encoding='utf-8') as f:\n",
        "        bilingual_dict = [line.strip().split() for line in f]\n",
        "    return bilingual_dict\n",
        "\n",
        "# Loading training dictionary\n",
        "train_dict = load_bilingual_lexicon('en-hi.0-5000.txt')\n"
      ],
      "metadata": {
        "id": "kMksQXbYQlf4"
      },
      "execution_count": 8,
      "outputs": []
    },
    {
      "cell_type": "code",
      "source": [
        "import numpy as np\n",
        "\n",
        "# source and target matrices\n",
        "def create_embedding_matrices(bilingual_dict, source_embeddings, target_embeddings):\n",
        "    source_matrix = []\n",
        "    target_matrix = []\n",
        "    oov_count = 0\n",
        "    for src_word, tgt_word in bilingual_dict:\n",
        "        if src_word in source_embeddings.key_to_index and tgt_word in target_embeddings.key_to_index:\n",
        "            source_matrix.append(source_embeddings[src_word])\n",
        "            target_matrix.append(target_embeddings[tgt_word])\n",
        "        else:\n",
        "            oov_count += 1\n",
        "    print(f'OOV pairs: {oov_count}')\n",
        "    return np.array(source_matrix), np.array(target_matrix)\n",
        "\n",
        "# Creating matrices\n",
        "X_train, Y_train = create_embedding_matrices(train_dict, en_embeddings, hi_embeddings)\n",
        "\n",
        "# Computing the optimal orthogonal mapping W\n",
        "def compute_procrustes(X, Y):\n",
        "    # covariance matrix\n",
        "    M = Y.T @ X\n",
        "    # Singular Value Decomposition\n",
        "    U, _, Vt = np.linalg.svd(M)\n",
        "    #  orthogonal matrix W\n",
        "    W = U @ Vt\n",
        "    return W\n",
        "\n",
        "# Compute mapping\n",
        "W = compute_procrustes(X_train, Y_train)\n"
      ],
      "metadata": {
        "colab": {
          "base_uri": "https://localhost:8080/"
        },
        "id": "jhLLXuGIQoCI",
        "outputId": "d25a1ef5-b852-4fe5-8610-272a49e4221f"
      },
      "execution_count": 9,
      "outputs": [
        {
          "output_type": "stream",
          "name": "stdout",
          "text": [
            "OOV pairs: 574\n"
          ]
        }
      ]
    },
    {
      "cell_type": "code",
      "source": [
        "from sklearn.metrics.pairwise import cosine_similarity\n",
        "\n",
        "# Mapping English embeddings to Hindi space\n",
        "def map_embeddings(embeddings, W):\n",
        "    mapped_embeddings = embeddings @ W.T\n",
        "    return mapped_embeddings\n",
        "\n",
        "# Map the English embeddings\n",
        "en_mapped_embeddings = map_embeddings(en_embeddings.vectors, W)\n",
        "\n",
        "# Create a new KeyedVectors instance for mapped English embeddings\n",
        "en_mapped = KeyedVectors(vector_size=300)\n",
        "en_mapped.add_vectors(en_embeddings.index_to_key, en_mapped_embeddings)\n",
        "\n"
      ],
      "metadata": {
        "id": "yr8QCdbEQrOo"
      },
      "execution_count": 10,
      "outputs": []
    },
    {
      "cell_type": "code",
      "source": [
        "# Loading the  test dictionary\n",
        "test_dict = load_bilingual_lexicon('en-hi.5000-6500.txt')\n"
      ],
      "metadata": {
        "id": "sIoSTH2iQzXo"
      },
      "execution_count": 11,
      "outputs": []
    },
    {
      "cell_type": "code",
      "source": [
        "def precision_at_k(source_embeddings, target_embeddings, test_dict, k=1):\n",
        "    correct = 0\n",
        "    total = 0\n",
        "    for src_word, tgt_word in test_dict:\n",
        "        if src_word in source_embeddings.key_to_index:\n",
        "            src_vec = source_embeddings[src_word]\n",
        "            # Computing similarities\n",
        "            similarities = target_embeddings.cosine_similarities(src_vec, target_embeddings.vectors)\n",
        "            # Get top k indices\n",
        "            top_k_indices = np.argsort(-similarities)[:k]\n",
        "            top_k_words = [target_embeddings.index_to_key[i] for i in top_k_indices]\n",
        "            if tgt_word in top_k_words:\n",
        "                correct += 1\n",
        "            total += 1\n",
        "    precision = correct / total\n",
        "    return precision\n",
        "\n",
        "# Compute P@1 and P@5\n",
        "p_at_1 = precision_at_k(en_mapped, hi_embeddings, test_dict, k=1)\n",
        "p_at_5 = precision_at_k(en_mapped, hi_embeddings, test_dict, k=5)\n",
        "\n",
        "print(f'Precision@1: {p_at_1:.4f}')\n",
        "print(f'Precision@5: {p_at_5:.4f}')\n"
      ],
      "metadata": {
        "colab": {
          "base_uri": "https://localhost:8080/"
        },
        "id": "kpxXx4oxQ85a",
        "outputId": "52489691-9221-40b6-d624-122c647f7a48"
      },
      "execution_count": 12,
      "outputs": [
        {
          "output_type": "stream",
          "name": "stdout",
          "text": [
            "Precision@1: 0.2490\n",
            "Precision@5: 0.4873\n"
          ]
        }
      ]
    },
    {
      "cell_type": "code",
      "source": [
        "def analyze_cosine_similarities(bilingual_dict, source_embeddings, target_embeddings, W, sample_size=100):\n",
        "    import random\n",
        "    sample_pairs = random.sample(bilingual_dict, sample_size)\n",
        "    similarities = []\n",
        "    for src_word, tgt_word in sample_pairs:\n",
        "        if src_word in source_embeddings.key_to_index and tgt_word in target_embeddings.key_to_index:\n",
        "            src_vec = source_embeddings[src_word] @ W.T\n",
        "            tgt_vec = target_embeddings[tgt_word]\n",
        "            cos_sim = cosine_similarity([src_vec], [tgt_vec])[0][0]\n",
        "            similarities.append((src_word, tgt_word, cos_sim))\n",
        "    # Sort\n",
        "    similarities.sort(key=lambda x: x[2], reverse=True)\n",
        "    return similarities\n",
        "\n",
        "# similarities\n",
        "similarities = analyze_cosine_similarities(test_dict, en_embeddings, hi_embeddings, W)\n",
        "\n",
        "# 10 most similar pairs\n",
        "for src_word, tgt_word, sim in similarities[:10]:\n",
        "    print(f'{src_word} - {tgt_word}: {sim:.4f}')\n"
      ],
      "metadata": {
        "colab": {
          "base_uri": "https://localhost:8080/"
        },
        "id": "f_iyoTWQSi_C",
        "outputId": "f4e5cdac-efdb-42b4-8648-0eaf76442252"
      },
      "execution_count": 13,
      "outputs": [
        {
          "output_type": "stream",
          "name": "stdout",
          "text": [
            "rainfall - वर्षा: 0.6208\n",
            "tourists - पर्यटक: 0.5945\n",
            "censorship - सेंसरशिप: 0.5618\n",
            "pregnant - गर्भवती: 0.5601\n",
            "boyfriend - बॉयफ्रेंड: 0.5505\n",
            "philosophers - दार्शनिकों: 0.5452\n",
            "mapping - मानचित्रण: 0.5447\n",
            "spa - स्पा: 0.5388\n",
            "mandatory - अनिवार्य: 0.5263\n",
            "backup - बैकअप: 0.5251\n"
          ]
        }
      ]
    },
    {
      "cell_type": "code",
      "source": [
        "training_sizes = [5000, 10000, 20000]  # Adjust based on available data\n"
      ],
      "metadata": {
        "id": "jvEZdZ2GStUw"
      },
      "execution_count": 14,
      "outputs": []
    },
    {
      "cell_type": "code",
      "source": [
        "results = []\n",
        "\n",
        "for size in training_sizes:\n",
        "    # Use the first 'size' word pairs from the training dictionary\n",
        "    current_train_dict = train_dict[:size]\n",
        "    # Create embedding matrices\n",
        "    X_train, Y_train = create_embedding_matrices(current_train_dict, en_embeddings, hi_embeddings)\n",
        "    # Compute mapping\n",
        "    W = compute_procrustes(X_train, Y_train)\n",
        "    # Map English embeddings\n",
        "    en_mapped_embeddings = map_embeddings(en_embeddings.vectors, W)\n",
        "    en_mapped = KeyedVectors(vector_size=300)\n",
        "    en_mapped.add_vectors(en_embeddings.index_to_key, en_mapped_embeddings)\n",
        "    # Evaluate\n",
        "    p_at_1 = precision_at_k(en_mapped, hi_embeddings, test_dict, k=1)\n",
        "    p_at_5 = precision_at_k(en_mapped, hi_embeddings, test_dict, k=5)\n",
        "    results.append((size, p_at_1, p_at_5))\n",
        "    print(f'Training Size: {size}, Precision@1: {p_at_1:.4f}, Precision@5: {p_at_5:.4f}')\n"
      ],
      "metadata": {
        "colab": {
          "base_uri": "https://localhost:8080/"
        },
        "id": "rXqoRRcISwV4",
        "outputId": "ec173f80-a2b7-49aa-928b-1f343c2330d4"
      },
      "execution_count": 15,
      "outputs": [
        {
          "output_type": "stream",
          "name": "stdout",
          "text": [
            "OOV pairs: 104\n",
            "Training Size: 5000, Precision@1: 0.2104, Precision@5: 0.4351\n",
            "OOV pairs: 574\n",
            "Training Size: 10000, Precision@1: 0.2490, Precision@5: 0.4873\n",
            "OOV pairs: 574\n",
            "Training Size: 20000, Precision@1: 0.2490, Precision@5: 0.4873\n"
          ]
        }
      ]
    },
    {
      "cell_type": "code",
      "source": [],
      "metadata": {
        "id": "rBVGv7me7XfA"
      },
      "execution_count": null,
      "outputs": []
    },
    {
      "cell_type": "code",
      "source": [
        "import matplotlib.pyplot as plt\n",
        "\n",
        "sizes, p1_scores, p5_scores = zip(*results)\n",
        "\n",
        "plt.figure(figsize=(10, 5))\n",
        "plt.plot(sizes, p1_scores, label='Precision@1')\n",
        "plt.plot(sizes, p5_scores, label='Precision@5')\n",
        "plt.xlabel('Training Dictionary Size')\n",
        "plt.ylabel('Precision')\n",
        "plt.title('Ablation Study: Impact of Training Dictionary Size')\n",
        "plt.legend()\n",
        "plt.show()\n"
      ],
      "metadata": {
        "colab": {
          "base_uri": "https://localhost:8080/",
          "height": 487
        },
        "id": "ZEhm6Ka8X6Yy",
        "outputId": "da3b2e4b-9daa-463a-a60b-0e996b5a1e58"
      },
      "execution_count": 16,
      "outputs": [
        {
          "output_type": "display_data",
          "data": {
            "text/plain": [
              "<Figure size 1000x500 with 1 Axes>"
            ],
            "image/png": "[encoded data removed]"
          },
          "metadata": {}
        }
      ]
    },
    {
      "cell_type": "code",
      "source": [
        "print(test_dict[:5])  # Print the first 5 entries to see the structure"
      ],
      "metadata": {
        "colab": {
          "base_uri": "https://localhost:8080/"
        },
        "id": "odXPeZJN7Z8m",
        "outputId": "1ea5a155-d5cd-4054-e687-daf9a7b16d22"
      },
      "execution_count": 17,
      "outputs": [
        {
          "output_type": "stream",
          "name": "stdout",
          "text": [
            "[['variants', 'विसंगतियाँ'], ['baroque', 'बरॉक'], ['iso', 'आईएसओ'], ['integral', 'इंटीग्रल'], ['integral', 'अभिन्न']]\n"
          ]
        }
      ]
    },
    {
      "cell_type": "code",
      "source": [
        "print(train_dict[:5])"
      ],
      "metadata": {
        "colab": {
          "base_uri": "https://localhost:8080/"
        },
        "id": "Ezkgnet479BT",
        "outputId": "e5e88e3a-1ed4-4df0-fc98-ea7f65a8c8d4"
      },
      "execution_count": 18,
      "outputs": [
        {
          "output_type": "stream",
          "name": "stdout",
          "text": [
            "[['and', 'और'], ['was', 'था'], ['was', 'थी'], ['for', 'लिये'], ['that', 'उस']]\n"
          ]
        }
      ]
    }
  ]
}